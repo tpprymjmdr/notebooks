{
 "cells": [
  {
   "cell_type": "code",
   "execution_count": 41,
   "metadata": {
    "collapsed": true
   },
   "outputs": [],
   "source": [
    "import numpy as np\n",
    "import scipy.stats as scs\n",
    "import matplotlib.pyplot as plt\n",
    "\n",
    "%matplotlib inline"
   ]
  },
  {
   "cell_type": "markdown",
   "metadata": {},
   "source": [
    "####  4.(a) Draw $n = 5$ samples from the standard Gaussian distribution, $\\mathcal{N} (0, 1)$"
   ]
  },
  {
   "cell_type": "code",
   "execution_count": 118,
   "metadata": {
    "collapsed": true
   },
   "outputs": [],
   "source": [
    "N_SAMPLES = 5"
   ]
  },
  {
   "cell_type": "code",
   "execution_count": 119,
   "metadata": {},
   "outputs": [
    {
     "name": "stdout",
     "output_type": "stream",
     "text": [
      "Five samples from the distribution: [-0.80701842  1.69394429  0.35480694 -2.33606765  0.61997977]\n"
     ]
    }
   ],
   "source": [
    "gaussian_samples = np.random.normal(loc=0, scale=1, size=N_SAMPLES)\n",
    "print(\"Five samples from the distribution:\", gaussian_samples)"
   ]
  },
  {
   "cell_type": "markdown",
   "metadata": {},
   "source": [
    "#### 4.(b) Using the samples as data, compute the ML estimate $\\hat\\mu$ for the mean and $\\hat\\sigma^2$ for the variance of the Gaussian, as given in Question 3(d) above."
   ]
  },
  {
   "cell_type": "code",
   "execution_count": 127,
   "metadata": {},
   "outputs": [
    {
     "name": "stdout",
     "output_type": "stream",
     "text": [
      "ML estimate for the mean: 0.232165879467\n",
      "ML estimate for the variance: 1.88863968334\n"
     ]
    }
   ],
   "source": [
    "def mle_params(samples):\n",
    "    mean_hat = np.mean(samples)\n",
    "    var_hat = np.var(samples, ddof=0)\n",
    "    return mean_hat, var_hat\n",
    "\n",
    "mean_hat, var_hat = mle_params(gaussian_samples)\n",
    "print(\"ML estimate for the mean:\", mean_hat)\n",
    "print(\"ML estimate for the variance:\", var_hat)"
   ]
  },
  {
   "cell_type": "markdown",
   "metadata": {},
   "source": [
    "#### 4.(c) Repeat steps (a) and (b) 10,000 times. Plot a histogram of the 10,000 estimates of the Gaussian variance parameter to show its empirical distribution. Do you recognize its shape?"
   ]
  },
  {
   "cell_type": "code",
   "execution_count": 128,
   "metadata": {},
   "outputs": [],
   "source": [
    "var_list = [mle_params(np.random.normal(loc=0, \n",
    "                                        scale=1, \n",
    "                                        size=N_SAMPLES\n",
    "                                       )\n",
    "                      )[1]    # select the second component of mlp_params\n",
    "            for _ in range(10000) # repeat 10000 times\n",
    "           ]"
   ]
  },
  {
   "cell_type": "code",
   "execution_count": 129,
   "metadata": {
    "scrolled": false
   },
   "outputs": [
    {
     "data": {
      "text/plain": [
       "(array([ 124.,  319.,  466.,  523.,  575.,  522.,  568.,  532.,  547.,\n",
       "         562.,  508.,  479.,  470.,  396.,  357.,  332.,  274.,  271.,\n",
       "         248.,  211.,  193.,  169.,  145.,  138.,  128.,  118.,  109.,\n",
       "          85.,   65.,   59.,   58.,   64.,   51.,   46.,   26.,   31.,\n",
       "          19.,   30.,   25.,   18.,   21.,   18.,   19.,   12.,    9.,\n",
       "           4.,   10.,    8.,    4.,    2.,    8.,    0.,    4.,    1.,\n",
       "           3.,    2.,    1.,    3.,    1.,    2.,    2.,    0.,    1.,\n",
       "           2.,    0.,    0.,    0.,    0.,    1.,    0.,    0.,    0.,\n",
       "           0.,    0.,    1.]),\n",
       " array([ 0.00634992,  0.06946114,  0.13257235,  0.19568357,  0.25879478,\n",
       "         0.32190599,  0.38501721,  0.44812842,  0.51123964,  0.57435085,\n",
       "         0.63746206,  0.70057328,  0.76368449,  0.8267957 ,  0.88990692,\n",
       "         0.95301813,  1.01612935,  1.07924056,  1.14235177,  1.20546299,\n",
       "         1.2685742 ,  1.33168542,  1.39479663,  1.45790784,  1.52101906,\n",
       "         1.58413027,  1.64724148,  1.7103527 ,  1.77346391,  1.83657513,\n",
       "         1.89968634,  1.96279755,  2.02590877,  2.08901998,  2.1521312 ,\n",
       "         2.21524241,  2.27835362,  2.34146484,  2.40457605,  2.46768727,\n",
       "         2.53079848,  2.59390969,  2.65702091,  2.72013212,  2.78324333,\n",
       "         2.84635455,  2.90946576,  2.97257698,  3.03568819,  3.0987994 ,\n",
       "         3.16191062,  3.22502183,  3.28813305,  3.35124426,  3.41435547,\n",
       "         3.47746669,  3.5405779 ,  3.60368911,  3.66680033,  3.72991154,\n",
       "         3.79302276,  3.85613397,  3.91924518,  3.9823564 ,  4.04546761,\n",
       "         4.10857883,  4.17169004,  4.23480125,  4.29791247,  4.36102368,\n",
       "         4.4241349 ,  4.48724611,  4.55035732,  4.61346854,  4.67657975,\n",
       "         4.73969096]),\n",
       " <a list of 75 Patch objects>)"
      ]
     },
     "execution_count": 129,
     "metadata": {},
     "output_type": "execute_result"
    },
    {
     "data": {
      "image/png": "[encoded data removed]",
      "text/plain": [
       "<matplotlib.figure.Figure at 0xb99e2f0>"
      ]
     },
     "metadata": {},
     "output_type": "display_data"
    }
   ],
   "source": [
    "plt.figure(figsize=(12,8))\n",
    "plt.figtext(0.5, 0.9, \"Histogram of Sample Variances\", fontsize=30, ha='center')\n",
    "plt.hist(var_list, bins='fd')"
   ]
  },
  {
   "cell_type": "markdown",
   "metadata": {},
   "source": [
    "The shape of the graph looks like that of a $\\chi^2$-distribution"
   ]
  },
  {
   "cell_type": "markdown",
   "metadata": {},
   "source": [
    "#### 4.(d) Use these 10,000 repeated trials to numerically estimate the (frequentist) bias and variance of the ML estimate $\\hat\\sigma^2$ of the Gaussian variance parameter.\n"
   ]
  },
  {
   "cell_type": "code",
   "execution_count": 130,
   "metadata": {},
   "outputs": [
    {
     "name": "stdout",
     "output_type": "stream",
     "text": [
      "Bias of the sample variance: -0.204764647447\n"
     ]
    }
   ],
   "source": [
    "print(\"Bias of the sample variance:\", np.mean(var_list) - 1)"
   ]
  },
  {
   "cell_type": "code",
   "execution_count": 133,
   "metadata": {},
   "outputs": [
    {
     "name": "stdout",
     "output_type": "stream",
     "text": [
      "Variance of the sample variance: 0.318487111314\n"
     ]
    }
   ],
   "source": [
    "print(\"Variance of the sample variance:\", np.var(var_list))"
   ]
  },
  {
   "cell_type": "markdown",
   "metadata": {},
   "source": [
    "#### 4.(e) Compare the results of (d) with the theoretical (frequentist) bias and variance that you can compute from the formula you derived in Question 3(d)."
   ]
  },
  {
   "cell_type": "code",
   "execution_count": 132,
   "metadata": {},
   "outputs": [
    {
     "name": "stdout",
     "output_type": "stream",
     "text": [
      "Theoretical bias: -0.2 \tDifference: -0.00476464744738\n",
      "Theoretical variance: 0.32 \tDifference: -0.00151288868553\n"
     ]
    }
   ],
   "source": [
    "print(\"Theoretical bias:\", -1/5, \"\\tDifference:\", np.mean(var_list) - 1 - (-1/5))\n",
    "print(\"Theoretical variance:\", 8/25, \"\\tDifference:\", np.var(var_list) - (8/25))"
   ]
  },
  {
   "cell_type": "code",
   "execution_count": null,
   "metadata": {
    "collapsed": true
   },
   "outputs": [],
   "source": []
  }
 ],
 "metadata": {
  "kernelspec": {
   "display_name": "Python 3",
   "language": "python",
   "name": "python3"
  },
  "language_info": {
   "codemirror_mode": {
    "name": "ipython",
    "version": 3
   },
   "file_extension": ".py",
   "mimetype": "text/x-python",
   "name": "python",
   "nbconvert_exporter": "python",
   "pygments_lexer": "ipython3",
   "version": "3.5.4"
  }
 },
 "nbformat": 4,
 "nbformat_minor": 2
}
