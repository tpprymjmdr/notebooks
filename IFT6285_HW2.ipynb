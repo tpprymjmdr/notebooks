{
  "nbformat": 4,
  "nbformat_minor": 0,
  "metadata": {
    "colab": {
      "name": "IFT6285-HW2",
      "version": "0.3.2",
      "provenance": [],
      "collapsed_sections": []
    },
    "kernelspec": {
      "name": "python3",
      "display_name": "Python 3"
    },
    "accelerator": "GPU"
  },
  "cells": [
    {
      "metadata": {
        "id": "SqNN2_HVC8G6",
        "colab_type": "text"
      },
      "cell_type": "markdown",
      "source": [
        "## Machine Translation"
      ]
    },
    {
      "metadata": {
        "id": "x8Av55j2crBP",
        "colab_type": "text"
      },
      "cell_type": "markdown",
      "source": [
        "* This notebook is used to solve Homework 2 of the course IFT6285. The problem statement can be found [here](http://www-labs.iro.umontreal.ca/~felipe/IFT6285-Automne2018/frontal.php?page=devoir2.html). We have two sets of sentences (english and french), and a set of labels indicating if a pair is related by translation. We have to build a classification algorithm based on this."
      ]
    },
    {
      "metadata": {
        "id": "5lvI_bAWDKob",
        "colab_type": "text"
      },
      "cell_type": "markdown",
      "source": [
        "We first download the input files and pre-trained word embedding models."
      ]
    },
    {
      "metadata": {
        "id": "azQqU-gRJs_i",
        "colab_type": "code",
        "outputId": "5dff098f-6ddf-4f76-bd38-14eca2373fd1",
        "colab": {
          "base_uri": "https://localhost:8080/",
          "height": 697
        }
      },
      "cell_type": "code",
      "source": [
        "!wget https://s3-us-west-1.amazonaws.com/fasttext-vectors/wiki.en.vec\n",
        "!wget https://s3-us-west-1.amazonaws.com/fasttext-vectors/wiki.fr.vec\n",
        "!wget http://www-labs.iro.umontreal.ca/~felipe/IFT6285-Automne2018/tps/tp2/tp2-bug-corrected.tar.gz\n",
        "!tar -zxvf tp2-bug-corrected.tar.gz"
      ],
      "execution_count": 2,
      "outputs": [
        {
          "output_type": "stream",
          "text": [
            "--2018-12-18 20:42:42--  https://s3-us-west-1.amazonaws.com/fasttext-vectors/wiki.en.vec\n",
            "Resolving s3-us-west-1.amazonaws.com (s3-us-west-1.amazonaws.com)... 52.219.24.121\n",
            "Connecting to s3-us-west-1.amazonaws.com (s3-us-west-1.amazonaws.com)|52.219.24.121|:443... connected.\n",
            "HTTP request sent, awaiting response... 200 OK\n",
            "Length: 6597238061 (6.1G) [binary/octet-stream]\n",
            "Saving to: ‘wiki.en.vec’\n",
            "\n",
            "wiki.en.vec         100%[===================>]   6.14G  73.0MB/s    in 87s     \n",
            "\n",
            "2018-12-18 20:44:09 (72.7 MB/s) - ‘wiki.en.vec’ saved [6597238061/6597238061]\n",
            "\n",
            "--2018-12-18 20:44:10--  https://s3-us-west-1.amazonaws.com/fasttext-vectors/wiki.fr.vec\n",
            "Resolving s3-us-west-1.amazonaws.com (s3-us-west-1.amazonaws.com)... 52.219.24.9\n",
            "Connecting to s3-us-west-1.amazonaws.com (s3-us-west-1.amazonaws.com)|52.219.24.9|:443... connected.\n",
            "HTTP request sent, awaiting response... 200 OK\n",
            "Length: 3027096151 (2.8G) [binary/octet-stream]\n",
            "Saving to: ‘wiki.fr.vec’\n",
            "\n",
            "wiki.fr.vec         100%[===================>]   2.82G  74.1MB/s    in 39s     \n",
            "\n",
            "2018-12-18 20:44:50 (73.4 MB/s) - ‘wiki.fr.vec’ saved [3027096151/3027096151]\n",
            "\n",
            "--2018-12-18 20:44:50--  http://www-labs.iro.umontreal.ca/~felipe/IFT6285-Automne2018/tps/tp2/tp2-bug-corrected.tar.gz\n",
            "Resolving www-labs.iro.umontreal.ca (www-labs.iro.umontreal.ca)... 132.204.26.154\n",
            "Connecting to www-labs.iro.umontreal.ca (www-labs.iro.umontreal.ca)|132.204.26.154|:80... connected.\n",
            "HTTP request sent, awaiting response... 200 OK\n",
            "Length: 128790691 (123M) [application/x-gzip]\n",
            "Saving to: ‘tp2-bug-corrected.tar.gz’\n",
            "\n",
            "tp2-bug-corrected.t 100%[===================>] 122.82M  36.6MB/s    in 4.6s    \n",
            "\n",
            "2018-12-18 20:44:56 (26.8 MB/s) - ‘tp2-bug-corrected.tar.gz’ saved [128790691/128790691]\n",
            "\n",
            "Data_nobackup/bug-corrected/train.fr\n",
            "Data_nobackup/bug-corrected/train.en\n",
            "Data_nobackup/bug-corrected/train.y\n",
            "Data_nobackup/bug-corrected/test.fr\n",
            "Data_nobackup/bug-corrected/test.en\n",
            "Data_nobackup/bug-corrected/test.y\n",
            "Data_nobackup/lexique.en-fr\n"
          ],
          "name": "stdout"
        }
      ]
    },
    {
      "metadata": {
        "id": "opFwUDp4nNXL",
        "colab_type": "code",
        "outputId": "e51c1078-79a3-433e-ac11-67049539fb41",
        "colab": {
          "base_uri": "https://localhost:8080/",
          "height": 34
        }
      },
      "cell_type": "code",
      "source": [
        "!ls"
      ],
      "execution_count": 3,
      "outputs": [
        {
          "output_type": "stream",
          "text": [
            "Data_nobackup  sample_data  tp2-bug-corrected.tar.gz  wiki.en.vec  wiki.fr.vec\n"
          ],
          "name": "stdout"
        }
      ]
    },
    {
      "metadata": {
        "id": "ykLYBi-yEOT9",
        "colab_type": "text"
      },
      "cell_type": "markdown",
      "source": [
        "We import some libraries."
      ]
    },
    {
      "metadata": {
        "id": "V6If8y7FKhpS",
        "colab_type": "code",
        "outputId": "427f13d5-e767-4805-b362-57c500d587a4",
        "colab": {
          "base_uri": "https://localhost:8080/",
          "height": 34
        }
      },
      "cell_type": "code",
      "source": [
        "import re\n",
        "import codecs\n",
        "import numpy as np\n",
        "import matplotlib.pyplot as plt\n",
        "from tqdm import tqdm\n",
        "from sklearn.metrics import roc_auc_score, f1_score\n",
        "from keras.preprocessing.text import Tokenizer\n",
        "from keras.preprocessing.sequence import pad_sequences\n",
        "from keras import backend as K\n",
        "from keras.optimizers import Adadelta\n",
        "from keras.models import Sequential, Model\n",
        "from keras.layers import Dense, Flatten, LSTM, Activation, Bidirectional, Lambda, Input\n",
        "from keras.layers.embeddings import Embedding\n",
        "from keras.layers.merge import concatenate, multiply, average, add, subtract \n",
        "from keras.layers import merge"
      ],
      "execution_count": 4,
      "outputs": [
        {
          "output_type": "stream",
          "text": [
            "Using TensorFlow backend.\n"
          ],
          "name": "stderr"
        }
      ]
    },
    {
      "metadata": {
        "id": "ws_1JEqdEZ9O",
        "colab_type": "text"
      },
      "cell_type": "markdown",
      "source": [
        "We split the documents into words, and get the labels."
      ]
    },
    {
      "metadata": {
        "id": "GdZBwyFvKuRW",
        "colab_type": "code",
        "colab": {
          "base_uri": "https://localhost:8080/",
          "height": 85
        },
        "outputId": "2e2bec11-cf25-46a4-da1b-c188284631f2"
      },
      "cell_type": "code",
      "source": [
        "with open('Data_nobackup/bug-corrected/train.en') as f:\n",
        "    train_en = [re.sub(r'[^\\w\\s]', '', line).strip(' \\n').lower() for line in tqdm(f)]\n",
        "    \n",
        "with open('Data_nobackup/bug-corrected/train.fr') as f:\n",
        "    train_fr = [re.sub(r'[^\\w\\s]', '', line).strip(' \\n').lower() for line in tqdm(f)]\n",
        "\n",
        "with open('Data_nobackup/bug-corrected/test.en') as f:\n",
        "    test_en = [re.sub(r'[^\\w\\s]', '', line).strip(' \\n').lower() for line in tqdm(f)]\n",
        "    \n",
        "with open('Data_nobackup/bug-corrected/test.fr') as f:\n",
        "    test_fr = [re.sub(r'[^\\w\\s]', '', line).strip(' \\n').lower() for line in tqdm(f)]\n",
        "\n",
        "train_y = np.loadtxt('Data_nobackup/bug-corrected/train.y', dtype='int')\n",
        "test_y = np.loadtxt('Data_nobackup/bug-corrected/test.y', dtype='int')"
      ],
      "execution_count": 5,
      "outputs": [
        {
          "output_type": "stream",
          "text": [
            "1000000it [00:05, 169835.37it/s]\n",
            "1000000it [00:07, 128021.98it/s]\n",
            "200000it [00:01, 176620.53it/s]\n",
            "200000it [00:01, 130245.53it/s]\n"
          ],
          "name": "stderr"
        }
      ]
    },
    {
      "metadata": {
        "id": "Y9seB1wmEwn-",
        "colab_type": "text"
      },
      "cell_type": "markdown",
      "source": [
        "Create dictionaries of embeddings."
      ]
    },
    {
      "metadata": {
        "id": "kqipvRFwNZzY",
        "colab_type": "code",
        "outputId": "5c32109f-d14d-4983-c817-8ec03f030c07",
        "colab": {
          "base_uri": "https://localhost:8080/",
          "height": 51
        }
      },
      "cell_type": "code",
      "source": [
        "# code taken from \n",
        "# https://www.kaggle.com/vsmolyakov/keras-cnn-with-fasttext-embeddings\n",
        "\n",
        "en_embeddings_index = {}\n",
        "with codecs.open('wiki.en.vec', encoding='utf-8') as f:\n",
        "    for line in tqdm(f):\n",
        "        values = line.rstrip().rsplit(' ')\n",
        "        word = values[0]\n",
        "        coefs = np.asarray(values[1:], dtype='float32')\n",
        "        en_embeddings_index[word] = coefs\n",
        "\n",
        "fr_embeddings_index = {}\n",
        "with codecs.open('wiki.fr.vec', encoding='utf-8') as f:\n",
        "    for line in tqdm(f):\n",
        "        values = line.rstrip().rsplit(' ')\n",
        "        word = values[0]\n",
        "        coefs = np.asarray(values[1:], dtype='float32')\n",
        "        fr_embeddings_index[word] = coefs"
      ],
      "execution_count": 6,
      "outputs": [
        {
          "output_type": "stream",
          "text": [
            "2519428it [05:54, 7099.96it/s]\n",
            "1152466it [02:45, 6942.85it/s]\n"
          ],
          "name": "stderr"
        }
      ]
    },
    {
      "metadata": {
        "id": "eVWfOEFCFHWg",
        "colab_type": "text"
      },
      "cell_type": "markdown",
      "source": [
        "Define the embedding dimension and sequence lengths for our model."
      ]
    },
    {
      "metadata": {
        "id": "LZ8gpHBsLcuh",
        "colab_type": "code",
        "colab": {}
      },
      "cell_type": "code",
      "source": [
        "embed_dim = 300\n",
        "max_seq_len = 40"
      ],
      "execution_count": 0,
      "outputs": []
    },
    {
      "metadata": {
        "id": "3tRTnVoZG_lT",
        "colab_type": "text"
      },
      "cell_type": "markdown",
      "source": [
        "We tokenize the documents, pad them so that they have the same length, create martrices of word embeddings according to the tokenized indices."
      ]
    },
    {
      "metadata": {
        "id": "gVLIYqORKmpj",
        "colab_type": "code",
        "colab": {
          "base_uri": "https://localhost:8080/",
          "height": 34
        },
        "outputId": "c9cb1c25-ea19-40aa-ecda-2cb29b2507e1"
      },
      "cell_type": "code",
      "source": [
        "tokenizer_en = Tokenizer(lower=True, char_level=False)\n",
        "tokenizer_en.fit_on_texts(train_en) \n",
        "word_seq_train_en = tokenizer_en.texts_to_sequences(train_en)\n",
        "word_seq_test_en = tokenizer_en.texts_to_sequences(test_en)\n",
        "word_index_en = tokenizer_en.word_index\n",
        "#pad sequences\n",
        "word_seq_train_en = pad_sequences(word_seq_train_en, maxlen=max_seq_len)\n",
        "word_seq_test_en = pad_sequences(word_seq_test_en, maxlen=max_seq_len)\n",
        "\n",
        "en_words_not_found = []\n",
        "nb_words_en = len(word_index_en)\n",
        "en_embedding_matrix = np.zeros((nb_words_en, embed_dim))\n",
        "for word, i in word_index_en.items():\n",
        "    if i >= nb_words_en:\n",
        "        continue\n",
        "    embedding_vector = en_embeddings_index.get(word)\n",
        "    if (embedding_vector is not None) and len(embedding_vector) > 0:\n",
        "        # words not found in embedding index will be all-zeros.\n",
        "        en_embedding_matrix[i] = embedding_vector\n",
        "    else:\n",
        "        en_words_not_found.append(word)"
      ],
      "execution_count": 8,
      "outputs": [
        {
          "output_type": "stream",
          "text": [
            "100%|██████████| 80704/80704 [00:00<00:00, 353471.21it/s]\n"
          ],
          "name": "stderr"
        }
      ]
    },
    {
      "metadata": {
        "id": "PRv3R12krJP6",
        "colab_type": "code",
        "colab": {}
      },
      "cell_type": "code",
      "source": [
        "tokenizer_fr = Tokenizer(lower=True, char_level=False)\n",
        "tokenizer_fr.fit_on_texts(train_fr)\n",
        "word_seq_train_fr = tokenizer_fr.texts_to_sequences(train_fr)\n",
        "word_seq_test_fr = tokenizer_fr.texts_to_sequences(test_fr)\n",
        "word_index_fr = tokenizer_fr.word_index\n",
        "#pad sequences\n",
        "word_seq_train_fr = pad_sequences(word_seq_train_fr, maxlen=max_seq_len)\n",
        "word_seq_test_fr = pad_sequences(word_seq_test_fr, maxlen=max_seq_len)\n",
        "\n",
        "fr_words_not_found = []\n",
        "nb_words_fr = len(word_index_fr)\n",
        "fr_embedding_matrix = np.zeros((nb_words_fr, embed_dim))\n",
        "for word, i in word_index_fr.items():\n",
        "    if i >= nb_words_fr:\n",
        "        continue\n",
        "    embedding_vector = fr_embeddings_index.get(word)\n",
        "    if (embedding_vector is not None) and len(embedding_vector) > 0:\n",
        "        # words not found in embedding index will be all-zeros.\n",
        "        fr_embedding_matrix[i] = embedding_vector\n",
        "    else:\n",
        "        fr_words_not_found.append(word)"
      ],
      "execution_count": 0,
      "outputs": []
    },
    {
      "metadata": {
        "id": "T_JNmNzRsC5d",
        "colab_type": "code",
        "outputId": "7a1457e0-91dd-45e6-b84c-e214205d1d7d",
        "colab": {
          "base_uri": "https://localhost:8080/",
          "height": 34
        }
      },
      "cell_type": "code",
      "source": [
        "en_embedding_matrix.shape, fr_embedding_matrix.shape"
      ],
      "execution_count": 27,
      "outputs": [
        {
          "output_type": "execute_result",
          "data": {
            "text/plain": [
              "((80704, 300), (105771, 300))"
            ]
          },
          "metadata": {
            "tags": []
          },
          "execution_count": 27
        }
      ]
    },
    {
      "metadata": {
        "id": "G8LKK_iIJSe0",
        "colab_type": "text"
      },
      "cell_type": "markdown",
      "source": [
        "Create training and validation sets."
      ]
    },
    {
      "metadata": {
        "id": "ZQE0ug8MykP0",
        "colab_type": "code",
        "colab": {}
      },
      "cell_type": "code",
      "source": [
        "train_ind = np.random.choice(range(word_seq_train_en.shape[0]), \n",
        "                             int(word_seq_train_en.shape[0]*0.7), \n",
        "                             replace=False)\n",
        "valid_ind = np.setdiff1d(range(word_seq_train_en.shape[0]), train_ind)\n",
        "#train_ind = train_ind[:10000]\n",
        "#valid_ind = test_ind[:10000]\n",
        "X_en_train = word_seq_train_en[train_ind]\n",
        "X_en_valid = word_seq_train_en[valid_ind]\n",
        "X_fr_train = word_seq_train_fr[train_ind]\n",
        "X_fr_valid = word_seq_train_fr[valid_ind]\n",
        "y_train = train_y[train_ind]\n",
        "y_valid = train_y[valid_ind]"
      ],
      "execution_count": 0,
      "outputs": []
    },
    {
      "metadata": {
        "id": "fUO_1dSxI6CX",
        "colab_type": "text"
      },
      "cell_type": "markdown",
      "source": [
        "### Base Model\n",
        "\n",
        "For our base model, we take the average of the English and French word embeddings and pass it through two dense hidden layers with sigmoid activation functions. After 30 epochs, this model achieves 90% validation accuracy."
      ]
    },
    {
      "metadata": {
        "id": "ez3KqML32p7X",
        "colab_type": "code",
        "outputId": "0113e8fa-092b-4ee8-dd0b-4c821db66275",
        "colab": {
          "base_uri": "https://localhost:8080/",
          "height": 1071
        }
      },
      "cell_type": "code",
      "source": [
        "input_en = Input(shape=(max_seq_len, ), name='en')\n",
        "input_fr = Input(shape=(max_seq_len, ), name='fr')\n",
        "#Embedding layers\n",
        "emb_en = Embedding(nb_words_en, embed_dim, weights=[en_embedding_matrix], \n",
        "                   input_length=(max_seq_len, ), trainable=False)(input_en)\n",
        "emb_fr = Embedding(nb_words_fr, embed_dim, weights=[fr_embedding_matrix], \n",
        "                   input_length=(max_seq_len, ), trainable=False)(input_fr)\n",
        "emb_mean = average([emb_en, emb_fr])\n",
        "dense = Dense(150, activation='sigmoid')(emb_mean)\n",
        "flt = Flatten()(dense)\n",
        "output = Dense(1, activation='sigmoid')(flt)\n",
        "base_model = Model(inputs=[input_en, input_fr], outputs=output)\n",
        "base_model.compile(optimizer='adam', loss='binary_crossentropy', metrics=['accuracy'])\n",
        "base_model.fit([X_en_train, X_fr_train], y_train, batch_size=300, epochs=30,\n",
        "               validation_data=([X_en_valid, X_fr_valid], y_valid), verbose=1)"
      ],
      "execution_count": 16,
      "outputs": [
        {
          "output_type": "stream",
          "text": [
            "Train on 700000 samples, validate on 300000 samples\n",
            "Epoch 1/30\n",
            "700000/700000 [==============================] - 28s 39us/step - loss: 0.6171 - acc: 0.6323 - val_loss: 0.4666 - val_acc: 0.7798\n",
            "Epoch 2/30\n",
            "700000/700000 [==============================] - 25s 36us/step - loss: 0.4283 - acc: 0.8012 - val_loss: 0.4003 - val_acc: 0.8132\n",
            "Epoch 3/30\n",
            "700000/700000 [==============================] - 25s 36us/step - loss: 0.3628 - acc: 0.8341 - val_loss: 0.3369 - val_acc: 0.8478\n",
            "Epoch 4/30\n",
            "700000/700000 [==============================] - 25s 35us/step - loss: 0.3286 - acc: 0.8520 - val_loss: 0.3127 - val_acc: 0.8591\n",
            "Epoch 5/30\n",
            "700000/700000 [==============================] - 25s 36us/step - loss: 0.3053 - acc: 0.8639 - val_loss: 0.3037 - val_acc: 0.8662\n",
            "Epoch 6/30\n",
            "700000/700000 [==============================] - 25s 35us/step - loss: 0.2884 - acc: 0.8726 - val_loss: 0.2936 - val_acc: 0.8713\n",
            "Epoch 7/30\n",
            "700000/700000 [==============================] - 25s 36us/step - loss: 0.2746 - acc: 0.8796 - val_loss: 0.2710 - val_acc: 0.8823\n",
            "Epoch 8/30\n",
            "700000/700000 [==============================] - 25s 35us/step - loss: 0.2627 - acc: 0.8856 - val_loss: 0.2584 - val_acc: 0.8868\n",
            "Epoch 9/30\n",
            "700000/700000 [==============================] - 25s 36us/step - loss: 0.2540 - acc: 0.8900 - val_loss: 0.2542 - val_acc: 0.8907\n",
            "Epoch 10/30\n",
            "700000/700000 [==============================] - 25s 35us/step - loss: 0.2460 - acc: 0.8938 - val_loss: 0.2458 - val_acc: 0.8930\n",
            "Epoch 11/30\n",
            "700000/700000 [==============================] - 25s 36us/step - loss: 0.2397 - acc: 0.8972 - val_loss: 0.2398 - val_acc: 0.8957\n",
            "Epoch 12/30\n",
            "700000/700000 [==============================] - 24s 35us/step - loss: 0.2337 - acc: 0.9004 - val_loss: 0.2381 - val_acc: 0.8962\n",
            "Epoch 13/30\n",
            "700000/700000 [==============================] - 25s 35us/step - loss: 0.2295 - acc: 0.9022 - val_loss: 0.2325 - val_acc: 0.8993\n",
            "Epoch 14/30\n",
            "700000/700000 [==============================] - 25s 35us/step - loss: 0.2242 - acc: 0.9047 - val_loss: 0.2299 - val_acc: 0.9002\n",
            "Epoch 15/30\n",
            "700000/700000 [==============================] - 25s 36us/step - loss: 0.2207 - acc: 0.9064 - val_loss: 0.2401 - val_acc: 0.8940\n",
            "Epoch 16/30\n",
            "700000/700000 [==============================] - 25s 35us/step - loss: 0.2169 - acc: 0.9083 - val_loss: 0.2262 - val_acc: 0.9018\n",
            "Epoch 17/30\n",
            "700000/700000 [==============================] - 25s 35us/step - loss: 0.2139 - acc: 0.9097 - val_loss: 0.2243 - val_acc: 0.9026\n",
            "Epoch 18/30\n",
            "700000/700000 [==============================] - 25s 36us/step - loss: 0.2104 - acc: 0.9113 - val_loss: 0.2187 - val_acc: 0.9065\n",
            "Epoch 19/30\n",
            "700000/700000 [==============================] - 25s 36us/step - loss: 0.2084 - acc: 0.9122 - val_loss: 0.2181 - val_acc: 0.9063\n",
            "Epoch 20/30\n",
            "700000/700000 [==============================] - 25s 36us/step - loss: 0.2047 - acc: 0.9139 - val_loss: 0.2186 - val_acc: 0.9054\n",
            "Epoch 21/30\n",
            "700000/700000 [==============================] - 25s 35us/step - loss: 0.2031 - acc: 0.9146 - val_loss: 0.2161 - val_acc: 0.9068\n",
            "Epoch 22/30\n",
            "700000/700000 [==============================] - 25s 36us/step - loss: 0.2004 - acc: 0.9160 - val_loss: 0.2146 - val_acc: 0.9091\n",
            "Epoch 23/30\n",
            "700000/700000 [==============================] - 25s 35us/step - loss: 0.1986 - acc: 0.9168 - val_loss: 0.2163 - val_acc: 0.9064\n",
            "Epoch 24/30\n",
            "700000/700000 [==============================] - 25s 36us/step - loss: 0.1962 - acc: 0.9180 - val_loss: 0.2336 - val_acc: 0.9034\n",
            "Epoch 25/30\n",
            "700000/700000 [==============================] - 25s 35us/step - loss: 0.1942 - acc: 0.9189 - val_loss: 0.2127 - val_acc: 0.9104\n",
            "Epoch 26/30\n",
            "700000/700000 [==============================] - 25s 36us/step - loss: 0.1926 - acc: 0.9196 - val_loss: 0.2115 - val_acc: 0.9111\n",
            "Epoch 27/30\n",
            "700000/700000 [==============================] - 25s 35us/step - loss: 0.1913 - acc: 0.9202 - val_loss: 0.2116 - val_acc: 0.9116\n",
            "Epoch 28/30\n",
            "700000/700000 [==============================] - 25s 36us/step - loss: 0.1886 - acc: 0.9217 - val_loss: 0.2119 - val_acc: 0.9090\n",
            "Epoch 29/30\n",
            "700000/700000 [==============================] - 25s 35us/step - loss: 0.1878 - acc: 0.9218 - val_loss: 0.2120 - val_acc: 0.9116\n",
            "Epoch 30/30\n",
            "700000/700000 [==============================] - 25s 36us/step - loss: 0.1854 - acc: 0.9231 - val_loss: 0.2131 - val_acc: 0.9114\n"
          ],
          "name": "stdout"
        },
        {
          "output_type": "execute_result",
          "data": {
            "text/plain": [
              "<keras.callbacks.History at 0x7f39e0831128>"
            ]
          },
          "metadata": {
            "tags": []
          },
          "execution_count": 16
        }
      ]
    },
    {
      "metadata": {
        "id": "kymEpksnQQjz",
        "colab_type": "code",
        "colab": {
          "base_uri": "https://localhost:8080/",
          "height": 365
        },
        "outputId": "88725f87-48e4-4101-a399-9fb422a97a0b"
      },
      "cell_type": "code",
      "source": [
        "plt.figure(figsize=(15, 5))\n",
        "plt.subplot(1, 2, 1)\n",
        "plt.xticks(fontsize=16)\n",
        "plt.yticks(fontsize=16)\n",
        "plt.plot(range(1, 31), base_model.history.history['loss'], label='Training Loss')\n",
        "plt.plot(range(1, 31), base_model.history.history['val_loss'], label='Validation Loss')\n",
        "plt.legend(prop={'size':16})\n",
        "plt.title(\"Loss\", fontsize=24)\n",
        "plt.subplot(1, 2, 2)\n",
        "plt.xticks(fontsize=16)\n",
        "plt.yticks(fontsize=16)\n",
        "plt.plot(range(1, 31), base_model.history.history['acc'], label='Training Accuracy')\n",
        "plt.plot(range(1, 31), base_model.history.history['val_acc'], label='Validation Accuracy')\n",
        "plt.legend(loc=4, prop={'size':16})\n",
        "plt.title(\"Accuracy\", fontsize=24)\n",
        "plt.tight_layout()"
      ],
      "execution_count": 17,
      "outputs": [
        {
          "output_type": "display_data",
          "data": {
            "image/png": "[encoded data removed]",
            "text/plain": [
              "<matplotlib.figure.Figure at 0x7f39e0461898>"
            ]
          },
          "metadata": {
            "tags": []
          }
        }
      ]
    },
    {
      "metadata": {
        "id": "MHea_mh8Jr1t",
        "colab_type": "text"
      },
      "cell_type": "markdown",
      "source": [
        "### Main Model\n",
        "\n",
        "We use bidirectional LSTMs with dropouts for our main model. After creating separate representations for english and french words, we take their absolute difference and elementwise product, take their sum, and pass it through two dense hidden layers. We see this improves significantly upon our base model accuracy."
      ]
    },
    {
      "metadata": {
        "id": "VllbTUxf7HyP",
        "colab_type": "code",
        "colab": {}
      },
      "cell_type": "code",
      "source": [
        "def abs_diff(l):\n",
        "    ''' Helper function for the similarity estimate of the LSTMs outputs '''\n",
        "    return K.abs(subtract(l))"
      ],
      "execution_count": 0,
      "outputs": []
    },
    {
      "metadata": {
        "id": "v-Rv9X0wsGpi",
        "colab_type": "code",
        "outputId": "4c2a4a79-e396-448a-b150-4d47c7b85236",
        "colab": {
          "base_uri": "https://localhost:8080/",
          "height": 391
        }
      },
      "cell_type": "code",
      "source": [
        "#Placeholders\n",
        "input_en = Input(shape=(max_seq_len, ), name='en')\n",
        "input_fr = Input(shape=(max_seq_len, ), name='fr')\n",
        "#Embedding layers\n",
        "emb_en = Embedding(nb_words_en, embed_dim, weights=[en_embedding_matrix], \n",
        "                   input_length=(max_seq_len, ), trainable=False)(input_en)\n",
        "emb_fr = Embedding(nb_words_fr, embed_dim, weights=[fr_embedding_matrix], \n",
        "                   input_length=(max_seq_len, ), trainable=False)(input_fr)\n",
        "#LSTM layers\n",
        "lstm_en = Bidirectional(LSTM(embed_dim, dropout=0.2, \n",
        "                             recurrent_dropout=0.3, \n",
        "                             return_sequences=False))(emb_en)\n",
        "lstm_fr = Bidirectional(LSTM(embed_dim, dropout=0.2, \n",
        "                             recurrent_dropout=0.3, \n",
        "                             return_sequences=False))(emb_fr)\n",
        "#Absolute difference\n",
        "elem_diff = Lambda(abs_diff)([lstm_en, lstm_fr])\n",
        "#Elementwise product\n",
        "elem_prod = multiply([lstm_en, lstm_fr])\n",
        "#Feedforward and add\n",
        "dense1 = Dense(150, use_bias=False)(elem_diff)\n",
        "dense2 = Dense(150, use_bias=False)(elem_prod)\n",
        "dense_sum = add([dense1, dense2])\n",
        "dense_out = Dense(75, activation='tanh')(dense_sum)\n",
        "output = Dense(1, activation='sigmoid')(dense_out)\n",
        "model = Model(inputs=[input_en, input_fr], outputs=output)\n",
        "opt = Adadelta(clipnorm=5)\n",
        "model.compile(optimizer=opt, loss='binary_crossentropy', metrics=['accuracy'])\n",
        "model.fit([X_en_train, X_fr_train], y_train, batch_size=300, epochs=10,\n",
        "          validation_data=([X_en_valid, X_fr_valid], y_valid), verbose=1)"
      ],
      "execution_count": 18,
      "outputs": [
        {
          "output_type": "stream",
          "text": [
            "Train on 700000 samples, validate on 300000 samples\n",
            "Epoch 1/10\n",
            "700000/700000 [==============================] - 1226s 2ms/step - loss: 0.2046 - acc: 0.9147 - val_loss: 0.1209 - val_acc: 0.9534\n",
            "Epoch 2/10\n",
            "700000/700000 [==============================] - 1222s 2ms/step - loss: 0.0937 - acc: 0.9656 - val_loss: 0.0647 - val_acc: 0.9771\n",
            "Epoch 3/10\n",
            "700000/700000 [==============================] - 1230s 2ms/step - loss: 0.0646 - acc: 0.9769 - val_loss: 0.0456 - val_acc: 0.9843\n",
            "Epoch 4/10\n",
            "700000/700000 [==============================] - 1234s 2ms/step - loss: 0.0518 - acc: 0.9819 - val_loss: 0.0383 - val_acc: 0.9871\n",
            "Epoch 5/10\n",
            "700000/700000 [==============================] - 1237s 2ms/step - loss: 0.0441 - acc: 0.9850 - val_loss: 0.0440 - val_acc: 0.9853\n",
            "Epoch 6/10\n",
            "700000/700000 [==============================] - 1237s 2ms/step - loss: 0.0388 - acc: 0.9870 - val_loss: 0.0398 - val_acc: 0.9870\n",
            "Epoch 7/10\n",
            "700000/700000 [==============================] - 1237s 2ms/step - loss: 0.0350 - acc: 0.9883 - val_loss: 0.0327 - val_acc: 0.9893\n",
            "Epoch 8/10\n",
            "700000/700000 [==============================] - 1242s 2ms/step - loss: 0.0318 - acc: 0.9893 - val_loss: 0.0309 - val_acc: 0.9899\n",
            "Epoch 9/10\n",
            "700000/700000 [==============================] - 1251s 2ms/step - loss: 0.0295 - acc: 0.9902 - val_loss: 0.0320 - val_acc: 0.9898\n",
            "Epoch 10/10\n",
            "700000/700000 [==============================] - 1237s 2ms/step - loss: 0.0275 - acc: 0.9909 - val_loss: 0.0301 - val_acc: 0.9905\n"
          ],
          "name": "stdout"
        },
        {
          "output_type": "execute_result",
          "data": {
            "text/plain": [
              "<keras.callbacks.History at 0x7f39dcb59978>"
            ]
          },
          "metadata": {
            "tags": []
          },
          "execution_count": 18
        }
      ]
    },
    {
      "metadata": {
        "id": "ku5APVLexhBd",
        "colab_type": "code",
        "outputId": "373762b0-22cd-44fe-e250-af6264af6f9b",
        "colab": {
          "base_uri": "https://localhost:8080/",
          "height": 365
        }
      },
      "cell_type": "code",
      "source": [
        "plt.figure(figsize=(15, 5))\n",
        "plt.subplot(1, 2, 1)\n",
        "plt.xticks(fontsize=16)\n",
        "plt.yticks(fontsize=16)\n",
        "plt.plot(range(1, 11), model.history.history['loss'], label='Training Loss')\n",
        "plt.plot(range(1, 11), model.history.history['val_loss'], label='Validation Loss')\n",
        "plt.title(\"Loss\", fontsize=24)\n",
        "plt.subplot(1, 2, 2)\n",
        "plt.xticks(fontsize=16)\n",
        "plt.yticks(fontsize=16)\n",
        "plt.plot(range(1, 11), model.history.history['acc'], label='Training Accuracy')\n",
        "plt.plot(range(1, 11), model.history.history['val_acc'], label='Training Accuracy')\n",
        "plt.title(\"Accuracy\", fontsize=24)\n",
        "plt.tight_layout()"
      ],
      "execution_count": 20,
      "outputs": [
        {
          "output_type": "display_data",
          "data": {
            "image/png": "[encoded data removed]",
            "text/plain": [
              "<matplotlib.figure.Figure at 0x7f39e04cf748>"
            ]
          },
          "metadata": {
            "tags": []
          }
        }
      ]
    },
    {
      "metadata": {
        "id": "IwSJFQx2Kase",
        "colab_type": "text"
      },
      "cell_type": "markdown",
      "source": [
        "We pick a threshold that maximizes the F1 score on the validation set, and use that threshold to calculate the F1 score on the test set."
      ]
    },
    {
      "metadata": {
        "id": "UK6GWZIiELxp",
        "colab_type": "code",
        "colab": {
          "base_uri": "https://localhost:8080/",
          "height": 51
        },
        "outputId": "e85861e9-5994-49e7-bc9d-0df0ce6ce1c3"
      },
      "cell_type": "code",
      "source": [
        "probs = model.predict([X_en_valid, X_fr_valid], verbose=1, batch_size=2000).ravel()\n",
        "d = {}\n",
        "for t in np.linspace(0, 0.99, 100):\n",
        "    y_pred = (probs > t) * 1\n",
        "    d[f1_score(y_valid, y_pred)] = t\n",
        "print(d[max(d)], max(d))"
      ],
      "execution_count": 24,
      "outputs": [
        {
          "output_type": "stream",
          "text": [
            "300000/300000 [==============================] - 82s 273us/step\n",
            "0.6900000000000001 0.9907499063620312\n"
          ],
          "name": "stdout"
        }
      ]
    },
    {
      "metadata": {
        "id": "gtUbrby7EMN7",
        "colab_type": "code",
        "colab": {
          "base_uri": "https://localhost:8080/",
          "height": 51
        },
        "outputId": "34d87bd0-be97-4d13-8585-8b2009cbbace"
      },
      "cell_type": "code",
      "source": [
        "probs = model.predict([word_seq_test_en, word_seq_test_fr], verbose=1, batch_size=2000).ravel()\n",
        "pred_y = (probs > 0.69) * 1\n",
        "print(f1_score(test_y, pred_y))"
      ],
      "execution_count": 26,
      "outputs": [
        {
          "output_type": "stream",
          "text": [
            "200000/200000 [==============================] - 55s 273us/step\n",
            "0.9937723175269059\n"
          ],
          "name": "stdout"
        }
      ]
    },
    {
      "metadata": {
        "id": "xsPP3tWWF09Z",
        "colab_type": "code",
        "colab": {}
      },
      "cell_type": "code",
      "source": [
        ""
      ],
      "execution_count": 0,
      "outputs": []
    },
    {
      "metadata": {
        "id": "kP0xsT7wF04_",
        "colab_type": "code",
        "colab": {}
      },
      "cell_type": "code",
      "source": [
        ""
      ],
      "execution_count": 0,
      "outputs": []
    },
    {
      "metadata": {
        "id": "uh7EBIdeF0z4",
        "colab_type": "code",
        "colab": {}
      },
      "cell_type": "code",
      "source": [
        ""
      ],
      "execution_count": 0,
      "outputs": []
    },
    {
      "metadata": {
        "id": "6v-gnHM0EMdI",
        "colab_type": "code",
        "colab": {}
      },
      "cell_type": "code",
      "source": [
        "# TODO: Check the effect of added noise in the training set"
      ],
      "execution_count": 0,
      "outputs": []
    },
    {
      "metadata": {
        "id": "xcQ6okM40h5T",
        "colab_type": "code",
        "colab": {}
      },
      "cell_type": "code",
      "source": [
        "def add_noise(mat_a, mat_b, arr, mult):\n",
        "    n = mat_a.shape[0]\n",
        "    ind = np.random.randint(0, n, size=((mult+1)*n, 2))\n",
        "    ne = np.where(ind[:, 0] != ind[:, 1])[0][:mult*n]\n",
        "    ind = ind[ne]\n",
        "    mat_a_fake = mat_a[ind[:, 0]]\n",
        "    mat_b_fake = mat_b[ind[:, 1]]\n",
        "    mat_a_aug = np.vstack([mat_a, mat_a_fake])\n",
        "    mat_b_aug = np.vstack([mat_b, mat_b_fake])\n",
        "    arr_aug = np.hstack([arr, np.zeros(mult*n, dtype='int')])\n",
        "    return mat_a_aug, mat_b_aug, arr_aug"
      ],
      "execution_count": 0,
      "outputs": []
    }
  ]
}