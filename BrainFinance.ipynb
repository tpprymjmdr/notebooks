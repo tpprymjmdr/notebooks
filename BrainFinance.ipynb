{
  "nbformat": 4,
  "nbformat_minor": 0,
  "metadata": {
    "colab": {
      "name": "BrainFinance.ipynb",
      "version": "0.3.2",
      "provenance": [],
      "include_colab_link": true
    },
    "kernelspec": {
      "name": "python3",
      "display_name": "Python 3"
    },
    "accelerator": "GPU"
  },
  "cells": [
    {
      "cell_type": "markdown",
      "metadata": {
        "id": "view-in-github",
        "colab_type": "text"
      },
      "source": [
        "<a href=\"https://colab.research.google.com/github/tpprymjmdr/notebooks/blob/master/BrainFinance.ipynb\" target=\"_parent\"><img src=\"https://colab.research.google.com/assets/colab-badge.svg\" alt=\"Open In Colab\"/></a>"
      ]
    },
    {
      "cell_type": "markdown",
      "metadata": {
        "id": "Ilg115lQiOwL",
        "colab_type": "text"
      },
      "source": [
        "## Import Relevant Modules"
      ]
    },
    {
      "cell_type": "code",
      "metadata": {
        "id": "v4s0-ICTlg8L",
        "colab_type": "code",
        "colab": {}
      },
      "source": [
        "import pandas as pd\n",
        "import numpy as np\n",
        "import matplotlib.pyplot as plt\n",
        "from sklearn.model_selection import train_test_split, GridSearchCV\n",
        "from sklearn.ensemble import RandomForestRegressor, RandomForestClassifier\n",
        "from sklearn.linear_model import Lasso, LogisticRegression\n",
        "from sklearn.svm import SVC\n",
        "from sklearn.decomposition import PCA\n",
        "from imblearn.over_sampling import SMOTE\n",
        "from imblearn.under_sampling import EditedNearestNeighbours\n",
        "from imblearn.combine import SMOTEENN\n",
        "from collections import Counter"
      ],
      "execution_count": 0,
      "outputs": []
    },
    {
      "cell_type": "markdown",
      "metadata": {
        "id": "KfITSIE0iW5K",
        "colab_type": "text"
      },
      "source": [
        "## Fraud Detection"
      ]
    },
    {
      "cell_type": "markdown",
      "metadata": {
        "id": "yH0u2kH8ibKT",
        "colab_type": "text"
      },
      "source": [
        "#### Get The Data"
      ]
    },
    {
      "cell_type": "code",
      "metadata": {
        "id": "saVO0bbf_36N",
        "colab_type": "code",
        "colab": {
          "base_uri": "https://localhost:8080/",
          "height": 34
        },
        "outputId": "d255e75d-734d-48fc-c927-d2cf45020672"
      },
      "source": [
        "df = pd.read_csv('fraud_prep.csv.gz')\n",
        "df.shape"
      ],
      "execution_count": 275,
      "outputs": [
        {
          "output_type": "execute_result",
          "data": {
            "text/plain": [
              "(284807, 31)"
            ]
          },
          "metadata": {
            "tags": []
          },
          "execution_count": 275
        }
      ]
    },
    {
      "cell_type": "markdown",
      "metadata": {
        "id": "lV3uVOdmjJmY",
        "colab_type": "text"
      },
      "source": [
        "#### Preprocess"
      ]
    },
    {
      "cell_type": "code",
      "metadata": {
        "id": "BmC5bRwu_32Q",
        "colab_type": "code",
        "colab": {
          "base_uri": "https://localhost:8080/",
          "height": 34
        },
        "outputId": "f43acbd3-1355-4fb4-842b-18f81c26f256"
      },
      "source": [
        "print(df.dtypes.unique().tolist())"
      ],
      "execution_count": 276,
      "outputs": [
        {
          "output_type": "stream",
          "text": [
            "[dtype('float64'), dtype('int64')]\n"
          ],
          "name": "stdout"
        }
      ]
    },
    {
      "cell_type": "code",
      "metadata": {
        "id": "ySCfIHjh_3eo",
        "colab_type": "code",
        "colab": {
          "base_uri": "https://localhost:8080/",
          "height": 34
        },
        "outputId": "51495433-2961-4a44-f486-4ba28967c1c7"
      },
      "source": [
        "dtypes = df.dtypes\n",
        "dtypes[dtypes == np.int64].index.tolist()"
      ],
      "execution_count": 277,
      "outputs": [
        {
          "output_type": "execute_result",
          "data": {
            "text/plain": [
              "['Class']"
            ]
          },
          "metadata": {
            "tags": []
          },
          "execution_count": 277
        }
      ]
    },
    {
      "cell_type": "code",
      "metadata": {
        "id": "Pvd9HGUY_3ad",
        "colab_type": "code",
        "colab": {
          "base_uri": "https://localhost:8080/",
          "height": 34
        },
        "outputId": "c373be25-ba91-4131-c2a4-7db924b199bd"
      },
      "source": [
        "nulls = df.isnull().sum()\n",
        "nulls[nulls > 0]"
      ],
      "execution_count": 278,
      "outputs": [
        {
          "output_type": "execute_result",
          "data": {
            "text/plain": [
              "Series([], dtype: int64)"
            ]
          },
          "metadata": {
            "tags": []
          },
          "execution_count": 278
        }
      ]
    },
    {
      "cell_type": "code",
      "metadata": {
        "id": "9WclJ1Ec_3VQ",
        "colab_type": "code",
        "colab": {}
      },
      "source": [
        "df.drop('Time', inplace=True, axis=1)"
      ],
      "execution_count": 0,
      "outputs": []
    },
    {
      "cell_type": "code",
      "metadata": {
        "id": "oXQlXZQC_3M6",
        "colab_type": "code",
        "colab": {
          "base_uri": "https://localhost:8080/",
          "height": 34
        },
        "outputId": "1c8603ef-da48-41bb-ff99-c6a822f400dc"
      },
      "source": [
        "df.drop_duplicates(inplace=True)\n",
        "df.shape"
      ],
      "execution_count": 280,
      "outputs": [
        {
          "output_type": "execute_result",
          "data": {
            "text/plain": [
              "(275663, 30)"
            ]
          },
          "metadata": {
            "tags": []
          },
          "execution_count": 280
        }
      ]
    },
    {
      "cell_type": "markdown",
      "metadata": {
        "id": "RLO9xgHUjQsi",
        "colab_type": "text"
      },
      "source": [
        "#### Rectify class imbalance using SMOTE and undersampling"
      ]
    },
    {
      "cell_type": "code",
      "metadata": {
        "id": "5dgMF188Ei6f",
        "colab_type": "code",
        "colab": {
          "base_uri": "https://localhost:8080/",
          "height": 68
        },
        "outputId": "59629fcf-3045-41bf-e8ee-b05f971c4d9b"
      },
      "source": [
        "df['Class'].value_counts()"
      ],
      "execution_count": 281,
      "outputs": [
        {
          "output_type": "execute_result",
          "data": {
            "text/plain": [
              "0    275190\n",
              "1       473\n",
              "Name: Class, dtype: int64"
            ]
          },
          "metadata": {
            "tags": []
          },
          "execution_count": 281
        }
      ]
    },
    {
      "cell_type": "code",
      "metadata": {
        "id": "FFwDtp7mE6dA",
        "colab_type": "code",
        "colab": {
          "base_uri": "https://localhost:8080/",
          "height": 34
        },
        "outputId": "41355ff7-be1c-4de4-f838-660d1d649b1e"
      },
      "source": [
        "rows_to_keep = df.loc[df['Class'] == 1].index.tolist() \\\n",
        "               + np.random.choice(df.loc[df['Class'] == 0].index, \n",
        "                                  int(0.5 * df['Class'].value_counts()[0]), \n",
        "                                  replace=False).tolist()\n",
        "len(rows_to_keep)"
      ],
      "execution_count": 282,
      "outputs": [
        {
          "output_type": "execute_result",
          "data": {
            "text/plain": [
              "138068"
            ]
          },
          "metadata": {
            "tags": []
          },
          "execution_count": 282
        }
      ]
    },
    {
      "cell_type": "code",
      "metadata": {
        "id": "H4svk_fo_3RQ",
        "colab_type": "code",
        "colab": {}
      },
      "source": [
        "df = df.loc[rows_to_keep]\n",
        "y = df.pop('Class').values\n",
        "X = df.values"
      ],
      "execution_count": 0,
      "outputs": []
    },
    {
      "cell_type": "code",
      "metadata": {
        "id": "0WeCaB1a_3Ik",
        "colab_type": "code",
        "colab": {}
      },
      "source": [
        "X_res, y_res = SMOTE().fit_resample(X, y)"
      ],
      "execution_count": 0,
      "outputs": []
    },
    {
      "cell_type": "code",
      "metadata": {
        "id": "qNozGmxW_3EN",
        "colab_type": "code",
        "colab": {
          "base_uri": "https://localhost:8080/",
          "height": 34
        },
        "outputId": "e372fe99-c4b8-43a3-f55d-03ceb2403b7f"
      },
      "source": [
        "X_res.shape"
      ],
      "execution_count": 286,
      "outputs": [
        {
          "output_type": "execute_result",
          "data": {
            "text/plain": [
              "(275190, 29)"
            ]
          },
          "metadata": {
            "tags": []
          },
          "execution_count": 286
        }
      ]
    },
    {
      "cell_type": "code",
      "metadata": {
        "id": "jGqwaxJV_2_D",
        "colab_type": "code",
        "colab": {
          "base_uri": "https://localhost:8080/",
          "height": 34
        },
        "outputId": "c039194e-f765-493c-dab5-8514afe0ff88"
      },
      "source": [
        "Counter(y_res)"
      ],
      "execution_count": 287,
      "outputs": [
        {
          "output_type": "execute_result",
          "data": {
            "text/plain": [
              "Counter({0: 137595, 1: 137595})"
            ]
          },
          "metadata": {
            "tags": []
          },
          "execution_count": 287
        }
      ]
    },
    {
      "cell_type": "markdown",
      "metadata": {
        "id": "Nhb4g-Xwjd3x",
        "colab_type": "text"
      },
      "source": [
        "#### Split into training and test"
      ]
    },
    {
      "cell_type": "code",
      "metadata": {
        "id": "NtB7wf6w_260",
        "colab_type": "code",
        "colab": {
          "base_uri": "https://localhost:8080/",
          "height": 34
        },
        "outputId": "f38733ad-140e-46c4-d7a4-3381d495832a"
      },
      "source": [
        "X_train, X_test, y_train, y_test = train_test_split(X_res, y_res, test_size=0.2, stratify=y_res)\n",
        "y_train.shape, y_test.shape"
      ],
      "execution_count": 291,
      "outputs": [
        {
          "output_type": "execute_result",
          "data": {
            "text/plain": [
              "((220152,), (55038,))"
            ]
          },
          "metadata": {
            "tags": []
          },
          "execution_count": 291
        }
      ]
    },
    {
      "cell_type": "markdown",
      "metadata": {
        "id": "FhfXdt2kjjaq",
        "colab_type": "text"
      },
      "source": [
        "#### Train using Random Forest"
      ]
    },
    {
      "cell_type": "code",
      "metadata": {
        "id": "SSVU_INrHQsn",
        "colab_type": "code",
        "colab": {
          "base_uri": "https://localhost:8080/",
          "height": 391
        },
        "outputId": "c9d49090-f409-42e1-fcb8-35354438ae23"
      },
      "source": [
        "rfc = RandomForestClassifier()\n",
        "grid_param = {  \n",
        "    'n_estimators': [500],\n",
        "    'bootstrap': [True],\n",
        "    'max_depth': [10]\n",
        "}\n",
        "\n",
        "grid_search = GridSearchCV(estimator=rfc,  \n",
        "                           param_grid=grid_param,\n",
        "                           cv=3,\n",
        "                           scoring='roc_auc',\n",
        "                           n_jobs=-1,\n",
        "                           verbose=3)\n",
        "\n",
        "grid_search.fit(X_train, y_train)"
      ],
      "execution_count": 301,
      "outputs": [
        {
          "output_type": "stream",
          "text": [
            "Fitting 3 folds for each of 1 candidates, totalling 3 fits\n"
          ],
          "name": "stdout"
        },
        {
          "output_type": "stream",
          "text": [
            "[Parallel(n_jobs=-1)]: Using backend LokyBackend with 2 concurrent workers.\n",
            "[Parallel(n_jobs=-1)]: Done   3 out of   3 | elapsed: 12.2min finished\n"
          ],
          "name": "stderr"
        },
        {
          "output_type": "execute_result",
          "data": {
            "text/plain": [
              "GridSearchCV(cv=3, error_score='raise-deprecating',\n",
              "             estimator=RandomForestClassifier(bootstrap=True, class_weight=None,\n",
              "                                              criterion='gini', max_depth=None,\n",
              "                                              max_features='auto',\n",
              "                                              max_leaf_nodes=None,\n",
              "                                              min_impurity_decrease=0.0,\n",
              "                                              min_impurity_split=None,\n",
              "                                              min_samples_leaf=1,\n",
              "                                              min_samples_split=2,\n",
              "                                              min_weight_fraction_leaf=0.0,\n",
              "                                              n_estimators='warn', n_jobs=None,\n",
              "                                              oob_score=False,\n",
              "                                              random_state=None, verbose=0,\n",
              "                                              warm_start=False),\n",
              "             iid='warn', n_jobs=-1,\n",
              "             param_grid={'bootstrap': [True], 'max_depth': [10],\n",
              "                         'n_estimators': [500]},\n",
              "             pre_dispatch='2*n_jobs', refit=True, return_train_score=False,\n",
              "             scoring='roc_auc', verbose=3)"
            ]
          },
          "metadata": {
            "tags": []
          },
          "execution_count": 301
        }
      ]
    },
    {
      "cell_type": "code",
      "metadata": {
        "id": "T40hZFU6HQi3",
        "colab_type": "code",
        "colab": {
          "base_uri": "https://localhost:8080/",
          "height": 34
        },
        "outputId": "83c9e463-fbfc-41a1-f214-79957527547d"
      },
      "source": [
        "rfc = grid_search.best_estimator_\n",
        "rfc.fit(X_train, y_train)\n",
        "rfc.score(X_test, y_test)"
      ],
      "execution_count": 303,
      "outputs": [
        {
          "output_type": "execute_result",
          "data": {
            "text/plain": [
              "0.9875177150332498"
            ]
          },
          "metadata": {
            "tags": []
          },
          "execution_count": 303
        }
      ]
    },
    {
      "cell_type": "markdown",
      "metadata": {
        "id": "GzHmM86ljoal",
        "colab_type": "text"
      },
      "source": [
        "#### Train using Logistic Regression"
      ]
    },
    {
      "cell_type": "code",
      "metadata": {
        "id": "CWlKKrqXHQdL",
        "colab_type": "code",
        "colab": {
          "base_uri": "https://localhost:8080/",
          "height": 360
        },
        "outputId": "f4d862f9-5b1c-4f53-94b9-7aaca4523956"
      },
      "source": [
        "lrc = LogisticRegression()\n",
        "grid_param = {  \n",
        "    'penalty': ['l2'],\n",
        "    'fit_intercept': [True],\n",
        "    'C': [10.]\n",
        "}\n",
        "\n",
        "grid_search = GridSearchCV(estimator=lrc,  \n",
        "                           param_grid=grid_param,\n",
        "                           cv=3,\n",
        "                           scoring='roc_auc',\n",
        "                           n_jobs=-1,\n",
        "                           verbose=3)\n",
        "\n",
        "grid_search.fit(X_train, y_train)"
      ],
      "execution_count": 308,
      "outputs": [
        {
          "output_type": "stream",
          "text": [
            "Fitting 3 folds for each of 1 candidates, totalling 3 fits\n"
          ],
          "name": "stdout"
        },
        {
          "output_type": "stream",
          "text": [
            "[Parallel(n_jobs=-1)]: Using backend LokyBackend with 2 concurrent workers.\n",
            "[Parallel(n_jobs=-1)]: Done   3 out of   3 | elapsed:   16.2s finished\n",
            "/usr/local/lib/python3.6/dist-packages/sklearn/linear_model/logistic.py:432: FutureWarning: Default solver will be changed to 'lbfgs' in 0.22. Specify a solver to silence this warning.\n",
            "  FutureWarning)\n"
          ],
          "name": "stderr"
        },
        {
          "output_type": "execute_result",
          "data": {
            "text/plain": [
              "GridSearchCV(cv=3, error_score='raise-deprecating',\n",
              "             estimator=LogisticRegression(C=1.0, class_weight=None, dual=False,\n",
              "                                          fit_intercept=True,\n",
              "                                          intercept_scaling=1, l1_ratio=None,\n",
              "                                          max_iter=100, multi_class='warn',\n",
              "                                          n_jobs=None, penalty='l2',\n",
              "                                          random_state=None, solver='warn',\n",
              "                                          tol=0.0001, verbose=0,\n",
              "                                          warm_start=False),\n",
              "             iid='warn', n_jobs=-1,\n",
              "             param_grid={'C': [10.0], 'fit_intercept': [True],\n",
              "                         'penalty': ['l2']},\n",
              "             pre_dispatch='2*n_jobs', refit=True, return_train_score=False,\n",
              "             scoring='roc_auc', verbose=3)"
            ]
          },
          "metadata": {
            "tags": []
          },
          "execution_count": 308
        }
      ]
    },
    {
      "cell_type": "code",
      "metadata": {
        "id": "D-RhQ7m8HQXh",
        "colab_type": "code",
        "colab": {
          "base_uri": "https://localhost:8080/",
          "height": 88
        },
        "outputId": "7f842b49-0a33-419b-c70f-33574c579c89"
      },
      "source": [
        "lrc = grid_search.best_estimator_\n",
        "lrc.fit(X_train, y_train)\n",
        "lrc.score(X_test, y_test)"
      ],
      "execution_count": 307,
      "outputs": [
        {
          "output_type": "stream",
          "text": [
            "/usr/local/lib/python3.6/dist-packages/sklearn/linear_model/logistic.py:432: FutureWarning: Default solver will be changed to 'lbfgs' in 0.22. Specify a solver to silence this warning.\n",
            "  FutureWarning)\n"
          ],
          "name": "stderr"
        },
        {
          "output_type": "execute_result",
          "data": {
            "text/plain": [
              "0.9592463388931284"
            ]
          },
          "metadata": {
            "tags": []
          },
          "execution_count": 307
        }
      ]
    },
    {
      "cell_type": "markdown",
      "metadata": {
        "id": "MUX7nG0-RwZS",
        "colab_type": "text"
      },
      "source": [
        "## Crime Dataset"
      ]
    },
    {
      "cell_type": "markdown",
      "metadata": {
        "id": "UzJ_gI5CR642",
        "colab_type": "text"
      },
      "source": [
        "#### Read the dataset"
      ]
    },
    {
      "cell_type": "code",
      "metadata": {
        "id": "PRy_ELizmbvW",
        "colab_type": "code",
        "colab": {
          "base_uri": "https://localhost:8080/",
          "height": 34
        },
        "outputId": "33991240-2579-479d-f89d-0ff630a80afa"
      },
      "source": [
        "df = pd.read_csv('crime_prep.csv.gz')\n",
        "df.shape"
      ],
      "execution_count": 152,
      "outputs": [
        {
          "output_type": "execute_result",
          "data": {
            "text/plain": [
              "(1994, 128)"
            ]
          },
          "metadata": {
            "tags": []
          },
          "execution_count": 152
        }
      ]
    },
    {
      "cell_type": "code",
      "metadata": {
        "id": "Cb4BXffEmhaW",
        "colab_type": "code",
        "outputId": "489158a1-907f-47ee-e2ff-5ce7694ff5a6",
        "colab": {
          "base_uri": "https://localhost:8080/",
          "height": 129
        }
      },
      "source": [
        "df.head(1)"
      ],
      "execution_count": 153,
      "outputs": [
        {
          "output_type": "execute_result",
          "data": {
            "text/html": [
              "<div>\n",
              "<style scoped>\n",
              "    .dataframe tbody tr th:only-of-type {\n",
              "        vertical-align: middle;\n",
              "    }\n",
              "\n",
              "    .dataframe tbody tr th {\n",
              "        vertical-align: top;\n",
              "    }\n",
              "\n",
              "    .dataframe thead th {\n",
              "        text-align: right;\n",
              "    }\n",
              "</style>\n",
              "<table border=\"1\" class=\"dataframe\">\n",
              "  <thead>\n",
              "    <tr style=\"text-align: right;\">\n",
              "      <th></th>\n",
              "      <th>target</th>\n",
              "      <th>v_cont_0</th>\n",
              "      <th>v_cat_0</th>\n",
              "      <th>v_cat_1</th>\n",
              "      <th>v_cat_2</th>\n",
              "      <th>v_cat_3</th>\n",
              "      <th>v_cont_5</th>\n",
              "      <th>v_cont_6</th>\n",
              "      <th>v_cont_7</th>\n",
              "      <th>v_cont_8</th>\n",
              "      <th>v_cont_9</th>\n",
              "      <th>v_cont_10</th>\n",
              "      <th>v_cont_11</th>\n",
              "      <th>v_cont_12</th>\n",
              "      <th>v_cont_13</th>\n",
              "      <th>v_cont_14</th>\n",
              "      <th>v_cont_15</th>\n",
              "      <th>v_cont_16</th>\n",
              "      <th>v_cont_17</th>\n",
              "      <th>v_cont_18</th>\n",
              "      <th>v_cont_19</th>\n",
              "      <th>v_cont_20</th>\n",
              "      <th>v_cont_21</th>\n",
              "      <th>v_cont_22</th>\n",
              "      <th>v_cont_23</th>\n",
              "      <th>v_cont_24</th>\n",
              "      <th>v_cont_25</th>\n",
              "      <th>v_cont_26</th>\n",
              "      <th>v_cont_27</th>\n",
              "      <th>v_cont_28</th>\n",
              "      <th>v_cont_29</th>\n",
              "      <th>v_cont_30</th>\n",
              "      <th>v_cont_31</th>\n",
              "      <th>v_cont_32</th>\n",
              "      <th>v_cont_33</th>\n",
              "      <th>v_cont_34</th>\n",
              "      <th>v_cont_35</th>\n",
              "      <th>v_cont_36</th>\n",
              "      <th>v_cont_37</th>\n",
              "      <th>v_cont_38</th>\n",
              "      <th>...</th>\n",
              "      <th>v_cont_87</th>\n",
              "      <th>v_cont_88</th>\n",
              "      <th>v_cont_89</th>\n",
              "      <th>v_cont_90</th>\n",
              "      <th>v_cont_91</th>\n",
              "      <th>v_cont_92</th>\n",
              "      <th>v_cont_93</th>\n",
              "      <th>v_cont_94</th>\n",
              "      <th>v_cont_95</th>\n",
              "      <th>v_cont_96</th>\n",
              "      <th>v_cont_97</th>\n",
              "      <th>v_cont_98</th>\n",
              "      <th>v_cont_99</th>\n",
              "      <th>v_cont_100</th>\n",
              "      <th>v_cont_101</th>\n",
              "      <th>v_cont_102</th>\n",
              "      <th>v_cont_103</th>\n",
              "      <th>v_cont_104</th>\n",
              "      <th>v_cont_105</th>\n",
              "      <th>v_cont_106</th>\n",
              "      <th>v_cont_107</th>\n",
              "      <th>v_cont_108</th>\n",
              "      <th>v_cont_109</th>\n",
              "      <th>v_cont_110</th>\n",
              "      <th>v_cont_111</th>\n",
              "      <th>v_cont_112</th>\n",
              "      <th>v_cont_113</th>\n",
              "      <th>v_cont_114</th>\n",
              "      <th>v_cont_115</th>\n",
              "      <th>v_cont_116</th>\n",
              "      <th>v_cont_117</th>\n",
              "      <th>v_cont_118</th>\n",
              "      <th>v_cont_119</th>\n",
              "      <th>v_cont_120</th>\n",
              "      <th>v_cont_121</th>\n",
              "      <th>v_cont_122</th>\n",
              "      <th>v_cont_123</th>\n",
              "      <th>v_cont_124</th>\n",
              "      <th>v_cont_125</th>\n",
              "      <th>v_cont_126</th>\n",
              "    </tr>\n",
              "  </thead>\n",
              "  <tbody>\n",
              "    <tr>\n",
              "      <th>0</th>\n",
              "      <td>0.2</td>\n",
              "      <td>8</td>\n",
              "      <td>NaN</td>\n",
              "      <td>NaN</td>\n",
              "      <td>Lakewoodcity</td>\n",
              "      <td>1</td>\n",
              "      <td>0.19</td>\n",
              "      <td>0.33</td>\n",
              "      <td>0.02</td>\n",
              "      <td>0.9</td>\n",
              "      <td>0.12</td>\n",
              "      <td>0.17</td>\n",
              "      <td>0.34</td>\n",
              "      <td>0.47</td>\n",
              "      <td>0.29</td>\n",
              "      <td>0.32</td>\n",
              "      <td>0.2</td>\n",
              "      <td>1.0</td>\n",
              "      <td>0.37</td>\n",
              "      <td>0.72</td>\n",
              "      <td>0.34</td>\n",
              "      <td>0.6</td>\n",
              "      <td>0.29</td>\n",
              "      <td>0.15</td>\n",
              "      <td>0.43</td>\n",
              "      <td>0.39</td>\n",
              "      <td>0.4</td>\n",
              "      <td>0.39</td>\n",
              "      <td>0.32</td>\n",
              "      <td>0.27</td>\n",
              "      <td>0.27</td>\n",
              "      <td>0.36</td>\n",
              "      <td>0.41</td>\n",
              "      <td>0.08</td>\n",
              "      <td>0.19</td>\n",
              "      <td>0.1</td>\n",
              "      <td>0.18</td>\n",
              "      <td>0.48</td>\n",
              "      <td>0.27</td>\n",
              "      <td>0.68</td>\n",
              "      <td>...</td>\n",
              "      <td>0.36</td>\n",
              "      <td>0.35</td>\n",
              "      <td>0.38</td>\n",
              "      <td>0.34</td>\n",
              "      <td>0.38</td>\n",
              "      <td>0.46</td>\n",
              "      <td>0.25</td>\n",
              "      <td>0.04</td>\n",
              "      <td>0.0</td>\n",
              "      <td>0.12</td>\n",
              "      <td>0.42</td>\n",
              "      <td>0.5</td>\n",
              "      <td>0.51</td>\n",
              "      <td>0.64</td>\n",
              "      <td>0.03</td>\n",
              "      <td>0.13</td>\n",
              "      <td>0.96</td>\n",
              "      <td>0.17</td>\n",
              "      <td>0.06</td>\n",
              "      <td>0.18</td>\n",
              "      <td>0.44</td>\n",
              "      <td>0.13</td>\n",
              "      <td>0.94</td>\n",
              "      <td>0.93</td>\n",
              "      <td>0.03</td>\n",
              "      <td>0.07</td>\n",
              "      <td>0.1</td>\n",
              "      <td>0.07</td>\n",
              "      <td>0.02</td>\n",
              "      <td>0.57</td>\n",
              "      <td>0.29</td>\n",
              "      <td>0.12</td>\n",
              "      <td>0.26</td>\n",
              "      <td>0.2</td>\n",
              "      <td>0.06</td>\n",
              "      <td>0.04</td>\n",
              "      <td>0.9</td>\n",
              "      <td>0.5</td>\n",
              "      <td>0.32</td>\n",
              "      <td>0.14</td>\n",
              "    </tr>\n",
              "  </tbody>\n",
              "</table>\n",
              "<p>1 rows × 128 columns</p>\n",
              "</div>"
            ],
            "text/plain": [
              "   target  v_cont_0  v_cat_0  ...  v_cont_124 v_cont_125  v_cont_126\n",
              "0     0.2         8      NaN  ...         0.5       0.32        0.14\n",
              "\n",
              "[1 rows x 128 columns]"
            ]
          },
          "metadata": {
            "tags": []
          },
          "execution_count": 153
        }
      ]
    },
    {
      "cell_type": "markdown",
      "metadata": {
        "id": "9C8sBx57SC3d",
        "colab_type": "text"
      },
      "source": [
        "#### Drop duplicates and columns with more than 25% null values, then impute nulls with mean for the remaining columns"
      ]
    },
    {
      "cell_type": "code",
      "metadata": {
        "id": "oadR2vNxd4in",
        "colab_type": "code",
        "colab": {
          "base_uri": "https://localhost:8080/",
          "height": 34
        },
        "outputId": "4acbdbe1-237a-4710-9f0f-275ba4b82335"
      },
      "source": [
        "df.drop_duplicates(inplace=True)\n",
        "df.shape"
      ],
      "execution_count": 154,
      "outputs": [
        {
          "output_type": "execute_result",
          "data": {
            "text/plain": [
              "(1994, 128)"
            ]
          },
          "metadata": {
            "tags": []
          },
          "execution_count": 154
        }
      ]
    },
    {
      "cell_type": "code",
      "metadata": {
        "id": "4GBE4LbUmiwj",
        "colab_type": "code",
        "colab": {}
      },
      "source": [
        "null_perc = df.isnull().sum() * 100 / df.shape[0]\n",
        "cols_to_keep = null_perc[null_perc < 25].index.tolist()\n",
        "df = df[cols_to_keep]\n",
        "empty_cols = null_perc[(null_perc < 25) & (null_perc > 0)].index.tolist()\n",
        "for col in empty_cols:\n",
        "    df[col].fillna(df[col].mean(), inplace=True)"
      ],
      "execution_count": 0,
      "outputs": []
    },
    {
      "cell_type": "markdown",
      "metadata": {
        "id": "S_H8tdavW2cx",
        "colab_type": "text"
      },
      "source": [
        "#### Find highly correlated columns with the target variable, and drop them"
      ]
    },
    {
      "cell_type": "code",
      "metadata": {
        "id": "ZIJSzDVYn5_B",
        "colab_type": "code",
        "outputId": "2aad94a4-0127-449e-f40d-f44fc424a1c4",
        "colab": {
          "base_uri": "https://localhost:8080/",
          "height": 34
        }
      },
      "source": [
        "corr_matrix = df.corr().abs()\n",
        "highly_correlated_cols = corr_matrix[corr_matrix.target > 0.70].index.tolist()\n",
        "highly_correlated_cols"
      ],
      "execution_count": 157,
      "outputs": [
        {
          "output_type": "execute_result",
          "data": {
            "text/plain": [
              "['target', 'v_cont_48', 'v_cont_49', 'v_cont_55']"
            ]
          },
          "metadata": {
            "tags": []
          },
          "execution_count": 157
        }
      ]
    },
    {
      "cell_type": "code",
      "metadata": {
        "id": "e-5sLQrLpHPT",
        "colab_type": "code",
        "colab": {}
      },
      "source": [
        "y = df['target'].values\n",
        "df.drop(highly_correlated_cols, inplace=True, axis=1)"
      ],
      "execution_count": 0,
      "outputs": []
    },
    {
      "cell_type": "markdown",
      "metadata": {
        "id": "imXTOUF3W-q8",
        "colab_type": "text"
      },
      "source": [
        "#### Find other pairs of correlated columns, and drop them"
      ]
    },
    {
      "cell_type": "code",
      "metadata": {
        "id": "_KMkTw9Sn0H4",
        "colab_type": "code",
        "outputId": "fbc145c9-846a-4b4a-b773-6319faaa1010",
        "colab": {
          "base_uri": "https://localhost:8080/",
          "height": 34
        }
      },
      "source": [
        "corr_matrix = df.corr().abs()\n",
        "upper = corr_matrix.where(np.triu(np.ones(corr_matrix.shape), k=1).astype(np.bool))\n",
        "to_drop = [column for column in upper.columns if any(upper[column] > 0.75)]\n",
        "print(len(to_drop))"
      ],
      "execution_count": 159,
      "outputs": [
        {
          "output_type": "stream",
          "text": [
            "57\n"
          ],
          "name": "stdout"
        }
      ]
    },
    {
      "cell_type": "code",
      "metadata": {
        "id": "vCmYZnjZecN9",
        "colab_type": "code",
        "colab": {
          "base_uri": "https://localhost:8080/",
          "height": 34
        },
        "outputId": "cbd35f3e-0ead-439e-c1e0-cafa7a19af73"
      },
      "source": [
        "df.drop(to_drop, inplace=True, axis=1)\n",
        "df.shape"
      ],
      "execution_count": 160,
      "outputs": [
        {
          "output_type": "execute_result",
          "data": {
            "text/plain": [
              "(1994, 43)"
            ]
          },
          "metadata": {
            "tags": []
          },
          "execution_count": 160
        }
      ]
    },
    {
      "cell_type": "markdown",
      "metadata": {
        "id": "f2l4cijCXGwQ",
        "colab_type": "text"
      },
      "source": [
        "#### Find categorial columns, and created dummy variables for them"
      ]
    },
    {
      "cell_type": "code",
      "metadata": {
        "id": "VeXtMk0neqvh",
        "colab_type": "code",
        "colab": {
          "base_uri": "https://localhost:8080/",
          "height": 34
        },
        "outputId": "0a853ecd-8ab4-422f-a089-8d2ebdf216ff"
      },
      "source": [
        "dtypes = df.dtypes\n",
        "non_float_cols = dtypes[dtypes != np.float].index.tolist()\n",
        "cols_to_drop = []\n",
        "cat_cols = []\n",
        "for col in non_float_cols:\n",
        "    if df[col].nunique() / df.shape[0] > 0.9:\n",
        "        cols_to_drop.append(col)\n",
        "    elif dtypes.loc[col] == np.int and df[col].nunique() < 20:\n",
        "        cat_cols.append(col)\n",
        "    \n",
        "cols_to_drop, cat_cols"
      ],
      "execution_count": 161,
      "outputs": [
        {
          "output_type": "execute_result",
          "data": {
            "text/plain": [
              "(['v_cat_2'], ['v_cat_3'])"
            ]
          },
          "metadata": {
            "tags": []
          },
          "execution_count": 161
        }
      ]
    },
    {
      "cell_type": "code",
      "metadata": {
        "id": "PxqJHRyqfHJA",
        "colab_type": "code",
        "colab": {
          "base_uri": "https://localhost:8080/",
          "height": 34
        },
        "outputId": "99ab95a3-2405-4a6d-dbb1-d43a98399edf"
      },
      "source": [
        "df.drop(cols_to_drop, axis=1, inplace=True)\n",
        "num_cols = set(df.columns.tolist()).difference(set(cat_cols))\n",
        "X = df[num_cols].values\n",
        "X.shape"
      ],
      "execution_count": 162,
      "outputs": [
        {
          "output_type": "execute_result",
          "data": {
            "text/plain": [
              "(1994, 41)"
            ]
          },
          "metadata": {
            "tags": []
          },
          "execution_count": 162
        }
      ]
    },
    {
      "cell_type": "markdown",
      "metadata": {
        "id": "sSgjjQJRXQtv",
        "colab_type": "text"
      },
      "source": [
        "#### Stack with numeric columns to get the predictor matrix"
      ]
    },
    {
      "cell_type": "code",
      "metadata": {
        "id": "ULR5dJ0Whcpy",
        "colab_type": "code",
        "colab": {
          "base_uri": "https://localhost:8080/",
          "height": 34
        },
        "outputId": "dc4b46d8-95a0-401a-a667-5dc93bc25763"
      },
      "source": [
        "for col in cat_cols:\n",
        "    X_cat = pd.get_dummies(df[col], drop_first=True).values\n",
        "    X = np.hstack([X, X_cat])\n",
        "X.shape"
      ],
      "execution_count": 163,
      "outputs": [
        {
          "output_type": "execute_result",
          "data": {
            "text/plain": [
              "(1994, 50)"
            ]
          },
          "metadata": {
            "tags": []
          },
          "execution_count": 163
        }
      ]
    },
    {
      "cell_type": "markdown",
      "metadata": {
        "id": "WxHK9VNeXiA0",
        "colab_type": "text"
      },
      "source": [
        "#### Split into train and test sets"
      ]
    },
    {
      "cell_type": "code",
      "metadata": {
        "id": "6qnW_sSCnVFc",
        "colab_type": "code",
        "colab": {
          "base_uri": "https://localhost:8080/",
          "height": 34
        },
        "outputId": "81818f53-d22d-42da-d579-28289df2aa5a"
      },
      "source": [
        "X_train, X_test, y_train, y_test = train_test_split(X, y, test_size=0.2)\n",
        "y_train.shape, y_test.shape"
      ],
      "execution_count": 166,
      "outputs": [
        {
          "output_type": "execute_result",
          "data": {
            "text/plain": [
              "((1595,), (399,))"
            ]
          },
          "metadata": {
            "tags": []
          },
          "execution_count": 166
        }
      ]
    },
    {
      "cell_type": "markdown",
      "metadata": {
        "id": "zWxFJA9rXmDD",
        "colab_type": "text"
      },
      "source": [
        "#### Do grid search on Random Forest"
      ]
    },
    {
      "cell_type": "code",
      "metadata": {
        "id": "z5d2QzE6nl1J",
        "colab_type": "code",
        "colab": {}
      },
      "source": [
        "rfr = RandomForestRegressor()\n",
        "grid_param = {  \n",
        "    'n_estimators': [100, 500, 1000],\n",
        "    'bootstrap': [True, False],\n",
        "    'max_depth': [10, None]\n",
        "}\n",
        "\n",
        "grid_search = GridSearchCV(estimator=rfr,  \n",
        "                           param_grid=grid_param,\n",
        "                           cv=3,\n",
        "                           scoring='r2',\n",
        "                           n_jobs=-1,\n",
        "                           verbose=3)\n",
        "\n",
        "grid_search.fit(X_train, y_train)"
      ],
      "execution_count": 0,
      "outputs": []
    },
    {
      "cell_type": "code",
      "metadata": {
        "id": "brivQoSsnxLJ",
        "colab_type": "code",
        "colab": {
          "base_uri": "https://localhost:8080/",
          "height": 445
        },
        "outputId": "f2b75f51-b300-472f-f0f6-ca991f678ba8"
      },
      "source": [
        ""
      ],
      "execution_count": 193,
      "outputs": [
        {
          "output_type": "stream",
          "text": [
            "Fitting 3 folds for each of 12 candidates, totalling 36 fits\n"
          ],
          "name": "stdout"
        },
        {
          "output_type": "stream",
          "text": [
            "[Parallel(n_jobs=-1)]: Using backend LokyBackend with 2 concurrent workers.\n",
            "/usr/local/lib/python3.6/dist-packages/joblib/externals/loky/process_executor.py:700: UserWarning: A worker stopped while some jobs were given to the executor. This can be caused by a too short worker timeout or by a memory leak.\n",
            "  \"timeout or by a memory leak.\", UserWarning\n",
            "[Parallel(n_jobs=-1)]: Done  28 tasks      | elapsed:  2.9min\n",
            "[Parallel(n_jobs=-1)]: Done  36 out of  36 | elapsed:  4.6min finished\n"
          ],
          "name": "stderr"
        },
        {
          "output_type": "execute_result",
          "data": {
            "text/plain": [
              "GridSearchCV(cv=3, error_score='raise-deprecating',\n",
              "             estimator=RandomForestRegressor(bootstrap=True, criterion='mse',\n",
              "                                             max_depth=None,\n",
              "                                             max_features='auto',\n",
              "                                             max_leaf_nodes=None,\n",
              "                                             min_impurity_decrease=0.0,\n",
              "                                             min_impurity_split=None,\n",
              "                                             min_samples_leaf=1,\n",
              "                                             min_samples_split=2,\n",
              "                                             min_weight_fraction_leaf=0.0,\n",
              "                                             n_estimators='warn', n_jobs=None,\n",
              "                                             oob_score=False, random_state=None,\n",
              "                                             verbose=0, warm_start=False),\n",
              "             iid='warn', n_jobs=-1,\n",
              "             param_grid={'bootstrap': [True, False], 'max_depth': [10, None],\n",
              "                         'n_estimators': [100, 500, 1000]},\n",
              "             pre_dispatch='2*n_jobs', refit=True, return_train_score=False,\n",
              "             scoring='r2', verbose=3)"
            ]
          },
          "metadata": {
            "tags": []
          },
          "execution_count": 193
        }
      ]
    },
    {
      "cell_type": "code",
      "metadata": {
        "id": "Yrug9B6psH9W",
        "colab_type": "code",
        "colab": {
          "base_uri": "https://localhost:8080/",
          "height": 51
        },
        "outputId": "bcf44d5c-7c87-450e-edc3-c5f04d4c82f6"
      },
      "source": [
        "grid_search.best_params_, grid_search.best_score_"
      ],
      "execution_count": 198,
      "outputs": [
        {
          "output_type": "execute_result",
          "data": {
            "text/plain": [
              "({'bootstrap': True, 'max_depth': None, 'n_estimators': 1000},\n",
              " 0.6258873378751005)"
            ]
          },
          "metadata": {
            "tags": []
          },
          "execution_count": 198
        }
      ]
    },
    {
      "cell_type": "markdown",
      "metadata": {
        "id": "7aydJ0tkXuGO",
        "colab_type": "text"
      },
      "source": [
        "#### Do grid search on Lasso regression"
      ]
    },
    {
      "cell_type": "code",
      "metadata": {
        "id": "OwJ3xfesyRQt",
        "colab_type": "code",
        "colab": {
          "base_uri": "https://localhost:8080/",
          "height": 377
        },
        "outputId": "76b7e824-c171-4038-d18f-956d6e3b0283"
      },
      "source": [
        "lasso = Lasso()\n",
        "grid_param = {  \n",
        "    'fit_intercept': [True, False],\n",
        "    'normalize': [True, False],\n",
        "    'tol': [1e-5],\n",
        "    'alpha': [0, 0.01, 0.1, 1., 10., 100, ]\n",
        "}\n",
        "\n",
        "grid_search = GridSearchCV(estimator=lasso,  \n",
        "                           param_grid=grid_param,\n",
        "                           cv=3,\n",
        "                           scoring='r2',\n",
        "                           n_jobs=-1,\n",
        "                           verbose=3)\n",
        "\n",
        "grid_search.fit(X_train, y_train)"
      ],
      "execution_count": 217,
      "outputs": [
        {
          "output_type": "stream",
          "text": [
            "Fitting 3 folds for each of 24 candidates, totalling 72 fits\n"
          ],
          "name": "stdout"
        },
        {
          "output_type": "stream",
          "text": [
            "[Parallel(n_jobs=-1)]: Using backend LokyBackend with 2 concurrent workers.\n",
            "[Parallel(n_jobs=-1)]: Done  72 out of  72 | elapsed:    0.5s finished\n",
            "/usr/local/lib/python3.6/dist-packages/sklearn/model_selection/_search.py:714: UserWarning: With alpha=0, this algorithm does not converge well. You are advised to use the LinearRegression estimator\n",
            "  self.best_estimator_.fit(X, y, **fit_params)\n",
            "/usr/local/lib/python3.6/dist-packages/sklearn/linear_model/coordinate_descent.py:475: UserWarning: Coordinate descent with no regularization may lead to unexpected results and is discouraged.\n",
            "  positive)\n",
            "/usr/local/lib/python3.6/dist-packages/sklearn/linear_model/coordinate_descent.py:475: ConvergenceWarning: Objective did not converge. You might want to increase the number of iterations. Duality gap: 14.79197343546828, tolerance: 0.0008612143009404388\n",
            "  positive)\n"
          ],
          "name": "stderr"
        },
        {
          "output_type": "execute_result",
          "data": {
            "text/plain": [
              "GridSearchCV(cv=3, error_score='raise-deprecating',\n",
              "             estimator=Lasso(alpha=1.0, copy_X=True, fit_intercept=True,\n",
              "                             max_iter=1000, normalize=False, positive=False,\n",
              "                             precompute=False, random_state=None,\n",
              "                             selection='cyclic', tol=0.0001, warm_start=False),\n",
              "             iid='warn', n_jobs=-1,\n",
              "             param_grid={'alpha': [0, 0.01, 0.1, 1.0, 10.0, 100],\n",
              "                         'fit_intercept': [True, False],\n",
              "                         'normalize': [True, False], 'tol': [1e-05]},\n",
              "             pre_dispatch='2*n_jobs', refit=True, return_train_score=False,\n",
              "             scoring='r2', verbose=3)"
            ]
          },
          "metadata": {
            "tags": []
          },
          "execution_count": 217
        }
      ]
    },
    {
      "cell_type": "code",
      "metadata": {
        "id": "QFAD5l5m3LdT",
        "colab_type": "code",
        "colab": {
          "base_uri": "https://localhost:8080/",
          "height": 51
        },
        "outputId": "c9d4312f-045b-4e79-8f35-c475ab722350"
      },
      "source": [
        "grid_search.best_params_, grid_search.best_score_"
      ],
      "execution_count": 218,
      "outputs": [
        {
          "output_type": "execute_result",
          "data": {
            "text/plain": [
              "({'alpha': 0, 'fit_intercept': True, 'normalize': False, 'tol': 1e-05},\n",
              " 0.625799539016251)"
            ]
          },
          "metadata": {
            "tags": []
          },
          "execution_count": 218
        }
      ]
    },
    {
      "cell_type": "markdown",
      "metadata": {
        "id": "Ms5wfkKlX1F6",
        "colab_type": "text"
      },
      "source": [
        "#### Pick the model with the best score, and evaluate on the test set"
      ]
    },
    {
      "cell_type": "code",
      "metadata": {
        "id": "1FI704n16ykf",
        "colab_type": "code",
        "colab": {
          "base_uri": "https://localhost:8080/",
          "height": 156
        },
        "outputId": "32db8841-ffa9-49ff-8cb3-1831d8ede4c8"
      },
      "source": [
        "lasso = grid_search.best_estimator_\n",
        "lasso.fit(X_train, y_train)\n",
        "lasso.score(X_test, y_test)"
      ],
      "execution_count": 219,
      "outputs": [
        {
          "output_type": "stream",
          "text": [
            "/usr/local/lib/python3.6/dist-packages/ipykernel_launcher.py:2: UserWarning: With alpha=0, this algorithm does not converge well. You are advised to use the LinearRegression estimator\n",
            "  \n",
            "/usr/local/lib/python3.6/dist-packages/sklearn/linear_model/coordinate_descent.py:475: UserWarning: Coordinate descent with no regularization may lead to unexpected results and is discouraged.\n",
            "  positive)\n",
            "/usr/local/lib/python3.6/dist-packages/sklearn/linear_model/coordinate_descent.py:475: ConvergenceWarning: Objective did not converge. You might want to increase the number of iterations. Duality gap: 14.79197343546828, tolerance: 0.0008612143009404388\n",
            "  positive)\n"
          ],
          "name": "stderr"
        },
        {
          "output_type": "execute_result",
          "data": {
            "text/plain": [
              "0.6550884956913887"
            ]
          },
          "metadata": {
            "tags": []
          },
          "execution_count": 219
        }
      ]
    }
  ]
}